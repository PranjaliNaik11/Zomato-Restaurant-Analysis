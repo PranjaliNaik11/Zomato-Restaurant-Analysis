{
 "cells": [
  {
   "cell_type": "code",
   "execution_count": null,
   "metadata": {},
   "outputs": [],
   "source": [
    "! pip install Plotly  #Import the Plotly library"
   ]
  },
  {
   "cell_type": "code",
   "execution_count": null,
   "metadata": {},
   "outputs": [],
   "source": [
    "! pip install cufflinks #Import the cufflinks library"
   ]
  },
  {
   "cell_type": "code",
   "execution_count": null,
   "metadata": {},
   "outputs": [],
   "source": [
    "#import all the requires libraries\n",
    "import numpy as np\n",
    "import pandas as pd\n",
    "\n",
    "import cufflinks as cf\n",
    "import plotly.plotly as py\n",
    "import plotly.tools as tls\n",
    "import plotly.graph_objs as go\n",
    "import matplotlib.pyplot as plt\n",
    "from pylab import rcParams\n",
    "import seaborn as sb\n",
    "\n",
    "import sklearn\n",
    "from sklearn.preprocessing import StandardScaler,scale\n",
    "from sklearn.linear_model import LinearRegression\n",
    "from collections import Counter"
   ]
  },
  {
   "cell_type": "code",
   "execution_count": null,
   "metadata": {},
   "outputs": [],
   "source": [
    "tls.set_credentials_file(username='PranjaliN', api_key='0Hyyr82hbp1Fso3h1THc') #Provide the credentials from cufflink"
   ]
  },
  {
   "cell_type": "code",
   "execution_count": null,
   "metadata": {},
   "outputs": [],
   "source": [
    "file=\"zomato.csv\" #Read CSV file\n",
    "zomato = pd.read_csv(file, encoding='latin-1')\n",
    "country = pd.read_excel('Country-Code.xlsx') #Read Country codes\n",
    "#print(zomato)\n",
    "zomato = pd.merge(zomato, country, on='Country Code')\n",
    "zomato.head(6)"
   ]
  },
  {
   "cell_type": "code",
   "execution_count": null,
   "metadata": {},
   "outputs": [],
   "source": [
    "df = zomato[(zomato['Country']=='United States')] #Select US from the available countries\n",
    "df.shape"
   ]
  },
  {
   "cell_type": "code",
   "execution_count": null,
   "metadata": {},
   "outputs": [],
   "source": [
    "data=[go.Bar(x=zomato['Rating text'],y=zomato['Votes'])] # Bar chart of the count of votes for different Rating categories\n",
    "layout=dict(title='Bar Chart',\n",
    "           xaxis=dict(title='x-axis'),\n",
    "           yaxis=dict(title='y-axis'))\n",
    "py.iplot(data, filename='basic',layout=layout)"
   ]
  },
  {
   "cell_type": "code",
   "execution_count": null,
   "metadata": {},
   "outputs": [],
   "source": [
    "Rating=zomato['Rating text'] #Histogram of the Rating Categories\n",
    "Rating.iplot(kind='histogram', filename='histogram')"
   ]
  },
  {
   "cell_type": "code",
   "execution_count": null,
   "metadata": {
    "scrolled": false
   },
   "outputs": [],
   "source": [
    "#The geographical distribution of the aggregate ratings around the world.\n",
    "\n",
    "data=[dict(type=\"scattergeo\",location='World',lon=zomato['Longitude'], lat = zomato['Latitude'], \n",
    "           marker=dict(size=12,autocolorscale=False,colorscale='custom-colorscale',color=zomato['Aggregate rating'],\n",
    "                      colorbar=dict(title='Rating')))]\n",
    "layout= dict(title='Rating for restaurants',colorbar=True, geo = dict(scope='world',projection=dict(type='albers world'),\n",
    "                                                                     showland=True,landcolor=\"rgb(250,250,250)\",subunitcolor=\"rgb(217,217,217)\",\n",
    "                                                                     countrycolor=\"rgb(217,217,217)\",countrywidth=0.5,subunitwidth=0.5))\n",
    "fig=dict(data=data,layout=layout)\n",
    "\n",
    "py.iplot(fig,validate=False,filename='Map')"
   ]
  },
  {
   "cell_type": "code",
   "execution_count": null,
   "metadata": {},
   "outputs": [],
   "source": [
    "sb.pairplot(df) #Pairplot showing the correlation between different attributes"
   ]
  },
  {
   "cell_type": "code",
   "execution_count": null,
   "metadata": {},
   "outputs": [],
   "source": [
    "#Selecting the data for Linear Regression \n",
    "zomato_data=zomato.ix[:,(17,20)].values\n",
    "print(zomato_data)\n",
    "zomato_target=zomato.ix[:,16].values\n",
    "zomato_data_names=['agg rating','Votes']\n",
    "x,y= scale(zomato_data),zomato_target"
   ]
  },
  {
   "cell_type": "code",
   "execution_count": null,
   "metadata": {},
   "outputs": [],
   "source": [
    "#Linear Regression\n",
    "LinReg=LinearRegression(normalize=True)\n",
    "LinReg.fit(x,y)\n",
    "print(LinReg.score(x,y))"
   ]
  },
  {
   "cell_type": "code",
   "execution_count": null,
   "metadata": {},
   "outputs": [],
   "source": [
    "#The different cuisines served in all restaurants.\n",
    "cuisines_data = zomato.groupby(['Cuisines'],as_index = False)['Restaurant ID'].count()\n",
    "\n",
    "#now time to get most popular cusinies on board, we know North Indian gonna hit the list\n",
    "cuisines_data.columns = ['Popular Cusinies','Number of Restaurants']\n",
    "cuisines_data.reindex(axis=\"index\")\n",
    "cuisines_data.sort_values(by='Number of Restaurants',ascending=False).head(20).reset_index(drop=True)"
   ]
  },
  {
   "cell_type": "code",
   "execution_count": null,
   "metadata": {},
   "outputs": [],
   "source": [
    "#Changing the textual input for Yes and No to 1 and 0.\n",
    "df['Has Table booking'].replace({'Yes':1,'No':0},inplace=True)\n",
    "df['Has Online delivery'].replace({'Yes':1,'No':0},inplace=True)\n",
    "df['Switch to order menu'].replace({'Yes':1,'No':0},inplace=True)\n",
    "df.head()"
   ]
  },
  {
   "cell_type": "code",
   "execution_count": null,
   "metadata": {},
   "outputs": [],
   "source": [
    "#Separating the Cuisines.\n",
    "cuisines = list(set(df['Cuisines'].str.cat(sep=',').replace(\" \",\"\").split(',')))\n",
    "cuisines.sort()\n",
    "cuisines"
   ]
  },
  {
   "cell_type": "code",
   "execution_count": null,
   "metadata": {},
   "outputs": [],
   "source": [
    "#Creating a separate category for different cuisines.\n",
    "for cuisine in cuisines:\n",
    "    df[cuisine] = df['Cuisines'].str.contains(cuisine)\n",
    "    df[cuisine].replace({True:1,False:0},inplace=True)\n",
    "df.head()"
   ]
  },
  {
   "cell_type": "code",
   "execution_count": null,
   "metadata": {},
   "outputs": [],
   "source": [
    "#Finding the average cost for two\n",
    "corr = df.corr()[['Average Cost for two']].sort_values('Average Cost for two', ascending=False)\n",
    "corr[corr['Average Cost for two']>0.2]"
   ]
  },
  {
   "cell_type": "code",
   "execution_count": null,
   "metadata": {},
   "outputs": [],
   "source": [
    "#Selecting a subset\n",
    "df = df[['Price range','Has Table booking','Aggregate rating','Steak','Votes','Average Cost for two']]\n",
    "df.head()\n",
    "df=df.dropna()"
   ]
  },
  {
   "cell_type": "code",
   "execution_count": null,
   "metadata": {},
   "outputs": [],
   "source": [
    "#Scaling the data\n",
    "from sklearn.preprocessing import MinMaxScaler\n",
    "\n",
    "scaler = MinMaxScaler()\n",
    "scaler.fit(df)\n",
    "df = pd.DataFrame(scaler.transform(df),columns=df.columns)\n",
    "df.head()"
   ]
  },
  {
   "cell_type": "code",
   "execution_count": null,
   "metadata": {},
   "outputs": [],
   "source": [
    "#Splitting the data into train and test data\n",
    "from sklearn.model_selection import train_test_split\n",
    "\n",
    "train,test = train_test_split(df,random_state=50)\n",
    "X_train = train.iloc[:,df.columns!='Average Cost for two']\n",
    "X_test = test.iloc[:,df.columns!='Average Cost for two']\n",
    "y_train = train['Average Cost for two']\n",
    "y_test = test['Average Cost for two']\n",
    "print('Training set size - ' , X_train.shape)\n",
    "print('Testing set size - ' , X_test.shape)"
   ]
  },
  {
   "cell_type": "code",
   "execution_count": null,
   "metadata": {},
   "outputs": [],
   "source": [
    "#Using Linear Regression\n",
    "from sklearn.linear_model import LinearRegression\n",
    "from sklearn.metrics import r2_score\n",
    "\n",
    "reg = LinearRegression()\n",
    "reg.fit(X_train, y_train)\n",
    "y_pred = reg.predict(X_test)\n",
    "score = r2_score(y_test,y_pred)\n",
    "score"
   ]
  },
  {
   "cell_type": "code",
   "execution_count": null,
   "metadata": {},
   "outputs": [],
   "source": [
    "#Import modules for validation curve and define a function\n",
    "from sklearn.model_selection import validation_curve\n",
    "from sklearn.pipeline import make_pipeline\n",
    "from sklearn.preprocessing import PolynomialFeatures\n",
    "import matplotlib.pyplot as plt\n",
    "\n",
    "def plot_validation_curve(model,param_name,x_label,param_range=np.arange(1,7)):\n",
    "    train_scores,validation_scores = validation_curve(model,X_train, y_train,\n",
    "                                                     param_name = param_name,param_range=param_range,\n",
    "                                                     scoring='r2',cv=3)\n",
    "    validation_scores[validation_scores < 0] = 0 # we are not going to plot any negative numbers!\n",
    "    print('Training scores  ',train_scores.mean(axis=1))\n",
    "    print('Validation scores  ',validation_scores.mean(axis=1))\n",
    "    \n",
    "    plt.figure(figsize=(6, 4))\n",
    "    plt.plot(param_range,validation_scores.mean(axis=1),lw=2, label='validation')\n",
    "    plt.plot(param_range,train_scores.mean(axis=1),lw=2, label='training')\n",
    "    plt.xlabel(x_label)\n",
    "    plt.ylabel('Score')\n",
    "    plt.title('Validation curve')\n",
    "    plt.legend(loc='best')\n",
    "    plt.show()"
   ]
  },
  {
   "cell_type": "code",
   "execution_count": null,
   "metadata": {},
   "outputs": [],
   "source": [
    "model = make_pipeline(PolynomialFeatures(),LinearRegression())\n",
    "plot_validation_curve(model,'polynomialfeatures__degree',x_label='Degree of polynomial')"
   ]
  },
  {
   "cell_type": "code",
   "execution_count": null,
   "metadata": {},
   "outputs": [],
   "source": [
    "from sklearn.tree import DecisionTreeRegressor\n",
    "plot_validation_curve(DecisionTreeRegressor(random_state=42),'max_depth','Max Depth')"
   ]
  }
 ],
 "metadata": {
  "kernelspec": {
   "display_name": "Python 3",
   "language": "python",
   "name": "python3"
  },
  "language_info": {
   "codemirror_mode": {
    "name": "ipython",
    "version": 3
   },
   "file_extension": ".py",
   "mimetype": "text/x-python",
   "name": "python",
   "nbconvert_exporter": "python",
   "pygments_lexer": "ipython3",
   "version": "3.6.5"
  }
 },
 "nbformat": 4,
 "nbformat_minor": 2
}
